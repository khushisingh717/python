{
 "cells": [
  {
   "cell_type": "code",
   "execution_count": 6,
   "metadata": {},
   "outputs": [
    {
     "name": "stdout",
     "output_type": "stream",
     "text": [
      "zomato zomato google\n"
     ]
    }
   ],
   "source": [
    "apps = [\"drive\", \"maps\", \"swiggy\", \"zomato\", \"whatsapp\", \"facebook\", \"google\", \"blinkit\", \"snapchat\", \"chrome\"]\n",
    "print(apps[3],apps[3],apps[6])"
   ]
  },
  {
   "cell_type": "markdown",
   "metadata": {},
   "source": []
  },
  {
   "cell_type": "markdown",
   "metadata": {},
   "source": [
    "indexing"
   ]
  },
  {
   "cell_type": "code",
   "execution_count": 7,
   "metadata": {},
   "outputs": [
    {
     "name": "stdout",
     "output_type": "stream",
     "text": [
      "zomato\n",
      "google\n"
     ]
    }
   ],
   "source": [
    "print(apps[3])\n",
    "print(apps[6])"
   ]
  },
  {
   "cell_type": "code",
   "execution_count": null,
   "metadata": {},
   "outputs": [],
   "source": []
  },
  {
   "cell_type": "markdown",
   "metadata": {},
   "source": [
    "slicing"
   ]
  },
  {
   "cell_type": "markdown",
   "metadata": {},
   "source": []
  },
  {
   "cell_type": "code",
   "execution_count": 8,
   "metadata": {},
   "outputs": [
    {
     "name": "stdout",
     "output_type": "stream",
     "text": [
      "['maps', 'swiggy', 'zomato', 'whatsapp', 'facebook']\n",
      "['maps', 'zomato', 'facebook', 'blinkit', 'chrome']\n",
      "['facebook', 'google', 'blinkit', 'snapchat', 'chrome']\n",
      "['drive', 'maps', 'swiggy', 'zomato', 'whatsapp', 'facebook', 'google']\n",
      "['drive', 'swiggy', 'whatsapp', 'google', 'snapchat']\n",
      "['drive', 'maps', 'swiggy', 'zomato', 'whatsapp', 'facebook', 'google', 'blinkit', 'snapchat', 'chrome']\n"
     ]
    }
   ],
   "source": [
    "print(apps[1:6])\n",
    "print(apps[1:10:2])\n",
    "print(apps[5:])\n",
    "print(apps[:7])\n",
    "print(apps[::2])\n",
    "print(apps[:])"
   ]
  },
  {
   "cell_type": "markdown",
   "metadata": {},
   "source": [
    "methods to acess the elements of the list \n",
    "- append - to add elements at the end of the list \n",
    "- insert - to add elements at specific position \n",
    "- pop - to delete elements using index position \n",
    "- remove - to delete element using elememt's name \n",
    "- sort - to sort the list in some order \n",
    "- copy - to create a copy of the whole list\n",
    "- extend - to combine two list "
   ]
  },
  {
   "cell_type": "markdown",
   "metadata": {},
   "source": []
  },
  {
   "cell_type": "code",
   "execution_count": 9,
   "metadata": {},
   "outputs": [
    {
     "name": "stdout",
     "output_type": "stream",
     "text": [
      "['drive', 'maps', 'swiggy', 'zomato', 'whatsapp', 'facebook', 'google', 'blinkit', 'snapchat', 'chrome']\n"
     ]
    }
   ],
   "source": [
    "print(apps)"
   ]
  },
  {
   "cell_type": "code",
   "execution_count": 9,
   "metadata": {},
   "outputs": [
    {
     "name": "stdout",
     "output_type": "stream",
     "text": [
      "['drive', 'maps', 'swiggy', 'snapchat', 'zomato', 'whatsapp', 'facebook', 'google', 'blinkit', 'snapchat', 'chrome', 'instagram']\n"
     ]
    }
   ],
   "source": [
    "apps.append(\"instagram\")\n",
    "print(apps)"
   ]
  },
  {
   "cell_type": "code",
   "execution_count": 8,
   "metadata": {},
   "outputs": [
    {
     "name": "stdout",
     "output_type": "stream",
     "text": [
      "['drive', 'maps', 'swiggy', 'snapchat', 'zomato', 'whatsapp', 'facebook', 'google', 'blinkit', 'snapchat', 'chrome']\n"
     ]
    }
   ],
   "source": [
    "apps.insert(3,\"snapchat\")\n",
    "print(apps)"
   ]
  },
  {
   "cell_type": "code",
   "execution_count": 10,
   "metadata": {},
   "outputs": [
    {
     "name": "stdout",
     "output_type": "stream",
     "text": [
      "['drive', 'swiggy', 'snapchat', 'zomato', 'whatsapp', 'facebook', 'google', 'blinkit', 'snapchat', 'chrome', 'instagram']\n"
     ]
    }
   ],
   "source": [
    "apps.pop(1)\n",
    "print(apps)"
   ]
  },
  {
   "cell_type": "code",
   "execution_count": 11,
   "metadata": {},
   "outputs": [
    {
     "name": "stdout",
     "output_type": "stream",
     "text": [
      "['drive', 'swiggy', 'snapchat', 'zomato', 'whatsapp', 'facebook', 'google', 'snapchat', 'chrome', 'instagram']\n"
     ]
    }
   ],
   "source": [
    "apps.remove(\"blinkit\")\n",
    "print(apps)"
   ]
  },
  {
   "cell_type": "code",
   "execution_count": 10,
   "metadata": {},
   "outputs": [
    {
     "name": "stdout",
     "output_type": "stream",
     "text": [
      "['blinkit', 'chrome', 'drive', 'facebook', 'google', 'maps', 'snapchat', 'swiggy', 'whatsapp', 'zomato']\n"
     ]
    }
   ],
   "source": [
    "apps.sort()\n",
    "print(apps)"
   ]
  },
  {
   "cell_type": "code",
   "execution_count": 11,
   "metadata": {},
   "outputs": [
    {
     "name": "stdout",
     "output_type": "stream",
     "text": [
      "['blinkit', 'chrome', 'drive', 'facebook', 'google', 'maps', 'snapchat', 'swiggy', 'whatsapp', 'zomato']\n"
     ]
    }
   ],
   "source": [
    "apps.copy()\n",
    "print(apps)"
   ]
  },
  {
   "cell_type": "code",
   "execution_count": 15,
   "metadata": {},
   "outputs": [
    {
     "name": "stdout",
     "output_type": "stream",
     "text": [
      "['chrome', 'drive', 'facebook', 'google', 'instagram', 'snapchat', 'snapchat', 'swiggy', 'whatsapp', 'zomato']\n"
     ]
    }
   ],
   "source": [
    "copy = apps.copy()\n",
    "print(copy)"
   ]
  },
  {
   "cell_type": "code",
   "execution_count": 16,
   "metadata": {},
   "outputs": [
    {
     "name": "stdout",
     "output_type": "stream",
     "text": [
      "['chrome', 'drive', 'facebook', 'google', 'instagram', 'snapchat', 'snapchat', 'swiggy', 'whatsapp', 'zomato', 'chrome', 'drive', 'facebook', 'google', 'instagram', 'snapchat', 'snapchat', 'swiggy', 'whatsapp', 'zomato']\n"
     ]
    }
   ],
   "source": [
    "apps.extend(copy)\n",
    "print(apps)"
   ]
  },
  {
   "cell_type": "markdown",
   "metadata": {},
   "source": [
    "list comprehension"
   ]
  },
  {
   "cell_type": "code",
   "execution_count": 17,
   "metadata": {},
   "outputs": [
    {
     "name": "stdout",
     "output_type": "stream",
     "text": [
      "2\n",
      "4\n",
      "6\n",
      "8\n",
      "10\n",
      "12\n",
      "14\n",
      "16\n",
      "18\n",
      "20\n"
     ]
    }
   ],
   "source": [
    "# take a list and print all the even numberfrom it\n",
    "a= [1, 2, 3, 4, 5, 6, 7, 8, 9, 10, 11, 12, 13, 14, 15, 16, 17, 18, 19, 20]\n",
    "for i in a:\n",
    "    if i%2==0:\n",
    "        print(i)\n"
   ]
  },
  {
   "cell_type": "code",
   "execution_count": 20,
   "metadata": {},
   "outputs": [
    {
     "name": "stdout",
     "output_type": "stream",
     "text": [
      "1\n",
      "4\n",
      "9\n",
      "16\n",
      "25\n",
      "36\n",
      "49\n",
      "64\n",
      "81\n",
      "100\n"
     ]
    }
   ],
   "source": [
    "#take a list of number and print the square of each number in the list\n",
    "numbers = [1,2,3,4,5,6,7,8,9,10]\n",
    "for i in numbers:\n",
    "    print(i**2)"
   ]
  },
  {
   "cell_type": "code",
   "execution_count": 23,
   "metadata": {},
   "outputs": [
    {
     "name": "stdout",
     "output_type": "stream",
     "text": [
      "1\n",
      "3\n",
      "6\n",
      "10\n",
      "15\n",
      "21\n",
      "28\n",
      "36\n",
      "45\n",
      "55\n"
     ]
    }
   ],
   "source": [
    "#take a list of number and print the sum of all the number in the list\n",
    "numbers = [1,2,3,4,5,6,7,8,9,10]\n",
    "sum = 0\n",
    "for i in numbers:\n",
    "    sum = sum + i\n",
    "    print(sum)"
   ]
  },
  {
   "cell_type": "code",
   "execution_count": 25,
   "metadata": {},
   "outputs": [
    {
     "name": "stdout",
     "output_type": "stream",
     "text": [
      "[1]\n",
      "[1, 4]\n",
      "[1, 4, 9]\n",
      "[1, 4, 9, 16]\n",
      "[1, 4, 9, 16, 25]\n",
      "[1, 4, 9, 16, 25, 36]\n",
      "[1, 4, 9, 16, 25, 36, 49]\n",
      "[1, 4, 9, 16, 25, 36, 49, 64]\n",
      "[1, 4, 9, 16, 25, 36, 49, 64, 81]\n",
      "[1, 4, 9, 16, 25, 36, 49, 64, 81, 100]\n"
     ]
    }
   ],
   "source": [
    "#take a list of numbers and print the square of each number in the list in a new list \n",
    "numbers = [ 1,2,3,4,5,6,7,8,9,10]\n",
    "square = []\n",
    "for i in numbers:\n",
    "    square.append(i**2)\n",
    "    print(square)"
   ]
  },
  {
   "cell_type": "code",
   "execution_count": 26,
   "metadata": {},
   "outputs": [
    {
     "name": "stdout",
     "output_type": "stream",
     "text": [
      "[2, 4, 6, 8, 10]\n"
     ]
    }
   ],
   "source": [
    "numbers = [1,2,3,4,5,6,7,8,9,10]\n",
    "even = [i for i in numbers if i%2==0]\n",
    "print(even)"
   ]
  },
  {
   "cell_type": "code",
   "execution_count": 27,
   "metadata": {},
   "outputs": [
    {
     "name": "stdout",
     "output_type": "stream",
     "text": [
      "[1, 8, 27, 64, 125, 216, 343, 512, 729, 1000]\n"
     ]
    }
   ],
   "source": [
    "cube = [i**3 for i in numbers]\n",
    "print(cube)"
   ]
  },
  {
   "cell_type": "code",
   "execution_count": null,
   "metadata": {},
   "outputs": [],
   "source": [
    "\n",
    "\n",
    "\n",
    "\n",
    "\n",
    "\n",
    "\n"
   ]
  }
 ],
 "metadata": {
  "kernelspec": {
   "display_name": "base",
   "language": "python",
   "name": "python3"
  },
  "language_info": {
   "codemirror_mode": {
    "name": "ipython",
    "version": 3
   },
   "file_extension": ".py",
   "mimetype": "text/x-python",
   "name": "python",
   "nbconvert_exporter": "python",
   "pygments_lexer": "ipython3",
   "version": "3.8.18"
  }
 },
 "nbformat": 4,
 "nbformat_minor": 2
}
