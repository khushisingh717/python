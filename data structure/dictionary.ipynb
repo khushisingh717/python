{
 "cells": [
  {
   "cell_type": "markdown",
   "metadata": {},
   "source": [
    "dictioniaries"
   ]
  },
  {
   "cell_type": "markdown",
   "metadata": {},
   "source": [
    "what we will study"
   ]
  },
  {
   "cell_type": "markdown",
   "metadata": {},
   "source": [
    ". how to declare it.\n",
    ". how to acess key and value pairs\n",
    "how to use loops in dictionary\n",
    "indexing in dictionary"
   ]
  },
  {
   "cell_type": "markdown",
   "metadata": {},
   "source": []
  },
  {
   "cell_type": "code",
   "execution_count": 5,
   "metadata": {},
   "outputs": [
    {
     "name": "stdout",
     "output_type": "stream",
     "text": [
      "{'name': 'khushi singh', 'age': '20', 'class': '5 sem'}\n"
     ]
    }
   ],
   "source": [
    "information={\n",
    "    \"name\":\"khushi singh\",\n",
    "    \"age\":\"20\",\n",
    "    \"class\":\"5 sem\"\n",
    "}\n",
    "print(information)\n"
   ]
  },
  {
   "cell_type": "code",
   "execution_count": 6,
   "metadata": {},
   "outputs": [
    {
     "name": "stdout",
     "output_type": "stream",
     "text": [
      "{'lucknow': [25, 30, 35], 'delhi': [20, 25, 30], 'mumbai': [30, 35, 40]}\n"
     ]
    }
   ],
   "source": [
    "# format.1 - key : value format.\n",
    "temp ={\n",
    "    \"lucknow\":[25,30,35],\n",
    "    \"delhi\":[20,25,30],\n",
    "    \"mumbai\":[30,35,40]\n",
    "}\n",
    "print(temp)"
   ]
  },
  {
   "cell_type": "code",
   "execution_count": 7,
   "metadata": {},
   "outputs": [
    {
     "name": "stdout",
     "output_type": "stream",
     "text": [
      "{'name': 'khushi singh', 'age': '20', 'classes': '5 sem'}\n"
     ]
    }
   ],
   "source": [
    "# format.2 - dict format. \n",
    "info = dict(name=\"khushi singh\",age=\"20\",classes=\"5 sem\")\n",
    "print(info)"
   ]
  },
  {
   "cell_type": "code",
   "execution_count": 15,
   "metadata": {},
   "outputs": [
    {
     "ename": "SyntaxError",
     "evalue": "invalid syntax (1791554177.py, line 3)",
     "output_type": "error",
     "traceback": [
      "\u001b[1;36m  Cell \u001b[1;32mIn[15], line 3\u001b[1;36m\u001b[0m\n\u001b[1;33m    age=int(input(\"enter your age:\")),\u001b[0m\n\u001b[1;37m    ^\u001b[0m\n\u001b[1;31mSyntaxError\u001b[0m\u001b[1;31m:\u001b[0m invalid syntax\n"
     ]
    }
   ],
   "source": [
    "#taking input from user \n",
    "info2= dict(name=(input(\"enter your name\"))\n",
    "            age=int(input(\"enter your age:\")),\n",
    "            course=(input(\"enter your course:\"))) \n",
    "print(info2)"
   ]
  },
  {
   "cell_type": "markdown",
   "metadata": {},
   "source": []
  },
  {
   "cell_type": "markdown",
   "metadata": {},
   "source": [
    "to access values"
   ]
  },
  {
   "cell_type": "code",
   "execution_count": 13,
   "metadata": {},
   "outputs": [
    {
     "name": "stdout",
     "output_type": "stream",
     "text": [
      "khushi singh\n",
      "20\n"
     ]
    }
   ],
   "source": [
    "#1st method to access the values of a key.\n",
    "print(information[\"name\"])\n",
    "print(info[\"age\"])"
   ]
  },
  {
   "cell_type": "code",
   "execution_count": 14,
   "metadata": {},
   "outputs": [
    {
     "name": "stdout",
     "output_type": "stream",
     "text": [
      "khushi singh\n"
     ]
    }
   ],
   "source": [
    "# 2nd method to access the value of a key\n",
    "print(information.get(\"name\"))"
   ]
  },
  {
   "cell_type": "markdown",
   "metadata": {},
   "source": [
    "to add item in a dictionary"
   ]
  },
  {
   "cell_type": "code",
   "execution_count": 15,
   "metadata": {},
   "outputs": [
    {
     "name": "stdout",
     "output_type": "stream",
     "text": [
      "{'name': 'khushi singh', 'age': '20', 'class': '5 sem', 'school': 'scpm', 'city': 'lucknow'}\n"
     ]
    }
   ],
   "source": [
    "# 1st method\n",
    "information[\"school\"]=\"scpm\"\n",
    "information[\"city\"]= \"lucknow\"\n",
    "print(information)"
   ]
  },
  {
   "cell_type": "code",
   "execution_count": 16,
   "metadata": {},
   "outputs": [
    {
     "name": "stdout",
     "output_type": "stream",
     "text": [
      "dict_keys(['name', 'age', 'class', 'school', 'city'])\n",
      "dict_values(['khushi singh', '20', '5 sem', 'scpm', 'lucknow'])\n"
     ]
    }
   ],
   "source": [
    "# to see all the values in once without loop.\n",
    "print(information.keys())\n",
    "print(information.values())"
   ]
  },
  {
   "cell_type": "code",
   "execution_count": 10,
   "metadata": {},
   "outputs": [
    {
     "name": "stdout",
     "output_type": "stream",
     "text": [
      "dict_items([('name', 'khushi singh'), ('age', '20'), ('class', '5 sem')])\n"
     ]
    }
   ],
   "source": [
    "# to view all key and values at once use .item.\n",
    "print(information.items())"
   ]
  },
  {
   "cell_type": "code",
   "execution_count": 16,
   "metadata": {},
   "outputs": [
    {
     "name": "stdout",
     "output_type": "stream",
     "text": [
      "name\n",
      "age\n",
      "class\n"
     ]
    }
   ],
   "source": [
    "# by using loop.\n",
    "for k in information: #here k is the pointer value, even if we take any other single pointer variable then it will always refer to key if we are working on dictionary.\n",
    "    print(k)"
   ]
  },
  {
   "cell_type": "code",
   "execution_count": 31,
   "metadata": {},
   "outputs": [
    {
     "name": "stdout",
     "output_type": "stream",
     "text": [
      "name:-khushi singh\n",
      "age:-20\n",
      "class:-5 sem\n"
     ]
    }
   ],
   "source": [
    "# using formatting.\n",
    "for k,v in information.items():\n",
    "    print(f\"{k}:-{v}\")"
   ]
  },
  {
   "cell_type": "code",
   "execution_count": 6,
   "metadata": {},
   "outputs": [
    {
     "name": "stdout",
     "output_type": "stream",
     "text": [
      "{'emp001': {'name': 'khushi', 'age': 20, 'city': 'lucknow', 'salary': 2500000}, 'emp002': {'name': 'saurabh', 'age': 25, 'city': 'delhi', 'salary': 200000}, 'emp003': {'name': 'tommy', 'age': '17', 'city': 'bombay', 'salary': 20000}}\n"
     ]
    }
   ],
   "source": [
    "company={\n",
    "    \"emp001\" :{\n",
    "        \"name\":\"khushi\",\n",
    "        \"age\":20,\n",
    "        \"city\":\"lucknow\",\n",
    "        \"salary\":2500000\n",
    "    },\n",
    "    \"emp002\" :{\n",
    "        \"name\":\"saurabh\",\n",
    "        \"age\":25,\n",
    "        \"city\":\"delhi\",\n",
    "        \"salary\":200000\n",
    "    },\n",
    "    \"emp003\":{\n",
    "        \"name\":\"tommy\",\n",
    "        \"age\":\"17\",\n",
    "        \"city\":\"bombay\",\n",
    "        \"salary\":20000\n",
    "    }\n",
    "}\n",
    "print(company)\n",
    "        "
   ]
  },
  {
   "cell_type": "code",
   "execution_count": 9,
   "metadata": {},
   "outputs": [
    {
     "name": "stdout",
     "output_type": "stream",
     "text": [
      "{'emp001': {'age': 20, 'city': 'lucknow', 'name': 'khushi', 'salary': 2500000},\n",
      " 'emp002': {'age': 25, 'city': 'delhi', 'name': 'saurabh', 'salary': 200000},\n",
      " 'emp003': {'age': '17', 'city': 'bombay', 'name': 'tommy', 'salary': 20000}}\n"
     ]
    }
   ],
   "source": [
    "from pprint import pprint\n",
    "pprint(company)"
   ]
  },
  {
   "cell_type": "code",
   "execution_count": 10,
   "metadata": {},
   "outputs": [
    {
     "data": {
      "text/plain": [
       "'khushi'"
      ]
     },
     "execution_count": 10,
     "metadata": {},
     "output_type": "execute_result"
    }
   ],
   "source": [
    "company[\"emp001\"][\"name\"]"
   ]
  },
  {
   "cell_type": "code",
   "execution_count": null,
   "metadata": {},
   "outputs": [
    {
     "ename": "NameError",
     "evalue": "name 'temp' is not defined",
     "output_type": "error",
     "traceback": [
      "\u001b[1;31m---------------------------------------------------------------------------\u001b[0m",
      "\u001b[1;31mNameError\u001b[0m                                 Traceback (most recent call last)",
      "Cell \u001b[1;32mIn[15], line 1\u001b[0m\n\u001b[1;32m----> 1\u001b[0m \u001b[43mtemp\u001b[49m [\u001b[38;5;124m\"\u001b[39m\u001b[38;5;124mlucknow\u001b[39m\u001b[38;5;124m\"\u001b[39m][\u001b[38;5;241m2\u001b[39m] \n",
      "\u001b[1;31mNameError\u001b[0m: name 'temp' is not defined"
     ]
    }
   ],
   "source": [
    "temp[\"lucknow\"][2] "
   ]
  },
  {
   "cell_type": "code",
   "execution_count": 14,
   "metadata": {},
   "outputs": [
    {
     "ename": "NameError",
     "evalue": "name 'temp' is not defined",
     "output_type": "error",
     "traceback": [
      "\u001b[1;31m---------------------------------------------------------------------------\u001b[0m",
      "\u001b[1;31mNameError\u001b[0m                                 Traceback (most recent call last)",
      "Cell \u001b[1;32mIn[14], line 1\u001b[0m\n\u001b[1;32m----> 1\u001b[0m \u001b[38;5;28mprint\u001b[39m(\u001b[38;5;28msum\u001b[39m(\u001b[43mtemp\u001b[49m[\u001b[38;5;124m\"\u001b[39m\u001b[38;5;124mlucknow\u001b[39m\u001b[38;5;124m\"\u001b[39m])\u001b[38;5;241m/\u001b[39m(temp[\u001b[38;5;124m\"\u001b[39m\u001b[38;5;124mlucknow\u001b[39m\u001b[38;5;124m\"\u001b[39m]))\n",
      "\u001b[1;31mNameError\u001b[0m: name 'temp' is not defined"
     ]
    }
   ],
   "source": [
    "print(sum(temp[\"lucknow\"])/(temp[\"lucknow\"]))"
   ]
  }
 ],
 "metadata": {
  "kernelspec": {
   "display_name": "base",
   "language": "python",
   "name": "python3"
  },
  "language_info": {
   "codemirror_mode": {
    "name": "ipython",
    "version": 3
   },
   "file_extension": ".py",
   "mimetype": "text/x-python",
   "name": "python",
   "nbconvert_exporter": "python",
   "pygments_lexer": "ipython3",
   "version": "3.8.18"
  }
 },
 "nbformat": 4,
 "nbformat_minor": 2
}
