{
 "cells": [
  {
   "cell_type": "code",
   "execution_count": null,
   "metadata": {},
   "outputs": [
    {
     "name": "stdout",
     "output_type": "stream",
     "text": [
      "khushi\n"
     ]
    }
   ],
   "source": [
    "name = 'khushi'\n",
    "print(name)"
   ]
  },
  {
   "cell_type": "markdown",
   "metadata": {},
   "source": [
    "poem = '''johny johny yes papa\n",
    "eating sugar no papa\n",
    "telling a lie no papa\n",
    "open your mouth ha ha ha'''\n",
    "print(poem)\n"
   ]
  },
  {
   "cell_type": "code",
   "execution_count": 3,
   "metadata": {},
   "outputs": [
    {
     "name": "stdout",
     "output_type": "stream",
     "text": [
      "\n"
     ]
    }
   ],
   "source": [
    "poem = ''' johny johny yes papa\n",
    "eating sugar no papa \n",
    "tellig a lie no papa\n",
    "open your mouth ha ha ha'''\n",
    "print()"
   ]
  },
  {
   "cell_type": "code",
   "execution_count": null,
   "metadata": {},
   "outputs": [],
   "source": []
  },
  {
   "cell_type": "markdown",
   "metadata": {},
   "source": [
    "fruits = ['apple','banana','orange','guava']\n",
    "print(fruits)"
   ]
  },
  {
   "cell_type": "code",
   "execution_count": 4,
   "metadata": {},
   "outputs": [
    {
     "name": "stdout",
     "output_type": "stream",
     "text": [
      "['apple,banana,orange,guava']\n"
     ]
    }
   ],
   "source": [
    "fruits = ['apple,banana,orange,guava']\n",
    "print(fruits)"
   ]
  },
  {
   "cell_type": "code",
   "execution_count": 5,
   "metadata": {},
   "outputs": [
    {
     "name": "stdout",
     "output_type": "stream",
     "text": [
      "('google', 'maps', 'swiggy', 'zomato')\n"
     ]
    }
   ],
   "source": [
    "apps = ('google','maps','swiggy','zomato')\n",
    "print(apps)"
   ]
  },
  {
   "cell_type": "code",
   "execution_count": 9,
   "metadata": {},
   "outputs": [
    {
     "name": "stdout",
     "output_type": "stream",
     "text": [
      "{'apple', 'guava', 'orange', 'banana'}\n"
     ]
    }
   ],
   "source": [
    "\n",
    "\n",
    "fruits = {'apple','banana','apple','orange','apple','guava'}\n",
    "print(fruits)"
   ]
  },
  {
   "cell_type": "code",
   "execution_count": 8,
   "metadata": {},
   "outputs": [
    {
     "name": "stdout",
     "output_type": "stream",
     "text": [
      "{'brand': 'ford', 'model': 'mustang', 'year': 1964}\n"
     ]
    }
   ],
   "source": [
    "car_info = {\n",
    "    \"brand\": \"ford\",\n",
    "    \"model\": \"mustang\",\n",
    "    \"year\": 1964\n",
    "}\n",
    "print(car_info)"
   ]
  },
  {
   "cell_type": "code",
   "execution_count": 10,
   "metadata": {},
   "outputs": [
    {
     "name": "stdout",
     "output_type": "stream",
     "text": [
      "{'name': 'john', 'age': 23, 'class': '6th'}\n"
     ]
    }
   ],
   "source": [
    "student = {\n",
    "    'name' : \"john\",\n",
    "    \"age\" : 23,\n",
    "    \"class\" : \"6th\"\n",
    "}\n",
    "print(student)\n",
    "\n"
   ]
  },
  {
   "cell_type": "code",
   "execution_count": null,
   "metadata": {},
   "outputs": [
    {
     "data": {
      "text/plain": [
       "str"
      ]
     },
     "execution_count": 11,
     "metadata": {},
     "output_type": "execute_result"
    }
   ],
   "source": [
    "# to check datatype of any value\n",
    "\n",
    "name = \"john\"\n",
    "type(name)"
   ]
  },
  {
   "cell_type": "code",
   "execution_count": null,
   "metadata": {},
   "outputs": [
    {
     "name": "stdout",
     "output_type": "stream",
     "text": [
      "8\n"
     ]
    },
    {
     "data": {
      "text/plain": [
       "int"
      ]
     },
     "execution_count": 12,
     "metadata": {},
     "output_type": "execute_result"
    }
   ],
   "source": [
    "\n",
    "#1st method\n",
    "num = input(\"enter a value\")\n",
    "num2 = int(num)\n",
    "print(num2)\n",
    "type(num2)"
   ]
  },
  {
   "cell_type": "code",
   "execution_count": null,
   "metadata": {},
   "outputs": [
    {
     "name": "stdout",
     "output_type": "stream",
     "text": [
      "8\n"
     ]
    },
    {
     "data": {
      "text/plain": [
       "int"
      ]
     },
     "execution_count": 13,
     "metadata": {},
     "output_type": "execute_result"
    }
   ],
   "source": [
    "#2ndmethod\n",
    "\n",
    "num = int(input(\"enter a value\")\n",
    "print(num)\n",
    "type(num)"
   ]
  },
  {
   "cell_type": "code",
   "execution_count": 15,
   "metadata": {},
   "outputs": [
    {
     "name": "stdout",
     "output_type": "stream",
     "text": [
      "sumof 5 and 2 is 7\n",
      "sum of5 and 2 is 7\n"
     ]
    }
   ],
   "source": [
    "a = 5 \n",
    "b = 2\n",
    "print(\"sumof\",a,\"and\",b,\"is\",a+b)\n",
    "print(f'sum of{a} and {b} is {a+b}')"
   ]
  },
  {
   "cell_type": "markdown",
   "metadata": {},
   "source": []
  }
 ],
 "metadata": {
  "kernelspec": {
   "display_name": "base",
   "language": "python",
   "name": "python3"
  },
  "language_info": {
   "codemirror_mode": {
    "name": "ipython",
    "version": 3
   },
   "file_extension": ".py",
   "mimetype": "text/x-python",
   "name": "python",
   "nbconvert_exporter": "python",
   "pygments_lexer": "ipython3",
   "version": "3.8.18"
  }
 },
 "nbformat": 4,
 "nbformat_minor": 2
}
